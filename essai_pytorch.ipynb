{
 "cells": [
  {
   "cell_type": "code",
   "execution_count": 1,
   "metadata": {},
   "outputs": [],
   "source": [
    "import torch as th\n",
    "import torch.nn as nn\n",
    "import numpy as np\n",
    "import random\n",
    "import load_data\n",
    "import re"
   ]
  },
  {
   "cell_type": "code",
   "execution_count": 2,
   "metadata": {},
   "outputs": [
    {
     "data": {
      "text/plain": [
       "<torch._C.Generator at 0x7fd1e80318f0>"
      ]
     },
     "execution_count": 2,
     "metadata": {},
     "output_type": "execute_result"
    }
   ],
   "source": [
    "th.manual_seed(1234)"
   ]
  },
  {
   "cell_type": "code",
   "execution_count": 3,
   "metadata": {},
   "outputs": [],
   "source": [
    "class MyModel(nn.Module):\n",
    "    def __init__(self):\n",
    "        super(MyModel, self).__init__()\n",
    "        in_channels = 3 # RGB\n",
    "        self.out_channels = 5\n",
    "        kernel_conv = (5,5) # square kernel\n",
    "        \n",
    "        self.conv = nn.Conv2d(in_channels, self.out_channels, kernel_size=kernel_conv, padding=2)\n",
    "        self.rel = nn.ReLU()\n",
    "        \n",
    "        kernel_pool = (3,3)\n",
    "        self.pool = nn.MaxPool2d(kernel_pool, stride=1, padding=1)\n",
    "        \n",
    "        self.lin = nn.Linear(self.out_channels, 1)\n",
    "        self.act = nn.Sigmoid()\n",
    "        \n",
    "    def forward(self, data):\n",
    "        out = self.conv(data)\n",
    "        out = self.rel(out)\n",
    "        out = self.pool(out)\n",
    "        out = out.squeeze(0).permute(1, 2, 0)\n",
    "        out = out.contiguous().view(-1, self.out_channels)\n",
    "        out = self.lin(out)\n",
    "        return self.act(out)"
   ]
  },
  {
   "cell_type": "code",
   "execution_count": 4,
   "metadata": {},
   "outputs": [],
   "source": [
    "class MyModel2(nn.Module):\n",
    "    def __init__(self):\n",
    "        super(MyModel2, self).__init__()\n",
    "        self.in_channels = 1 # RGB\n",
    "        \n",
    "        self.lin = nn.Linear(self.in_channels, 1)\n",
    "        self.act = nn.Sigmoid()\n",
    "        \n",
    "    def forward(self, data):\n",
    "        out = data.squeeze(0).permute(1, 2, 0)\n",
    "        out = out.contiguous().view(-1, self.in_channels)\n",
    "        out = self.lin(out)\n",
    "        return self.act(out)"
   ]
  },
  {
   "cell_type": "code",
   "execution_count": 5,
   "metadata": {},
   "outputs": [
    {
     "name": "stdout",
     "output_type": "stream",
     "text": [
      "Nombre d'image de train : 180\n"
     ]
    }
   ],
   "source": [
    "train_img = load_data.load_images_in_path(\"./train/images\")\n",
    "print(\"Nombre d'image de train : %d\" % (len(train_img)))"
   ]
  },
  {
   "cell_type": "code",
   "execution_count": 6,
   "metadata": {},
   "outputs": [
    {
     "name": "stdout",
     "output_type": "stream",
     "text": [
      "{'chicago', 'tyrol', 'austin', 'kitsap', 'vienna'}\n"
     ]
    }
   ],
   "source": [
    "town_name_list = load_data.get_town_name_list(train_img)\n",
    "print(town_name_list)"
   ]
  },
  {
   "cell_type": "code",
   "execution_count": 7,
   "metadata": {},
   "outputs": [],
   "source": [
    "limit_town_image = 3"
   ]
  },
  {
   "cell_type": "code",
   "execution_count": 8,
   "metadata": {},
   "outputs": [],
   "source": [
    "def filter_img_dict(img_dict, limit):\n",
    "    return {name: img for name, img in img_dict.items() if int(re.search(\"[0-9]+\", name).group(0)) <= limit}"
   ]
  },
  {
   "cell_type": "code",
   "execution_count": 9,
   "metadata": {},
   "outputs": [
    {
     "name": "stdout",
     "output_type": "stream",
     "text": [
      "15\n"
     ]
    }
   ],
   "source": [
    "filtered_train_img = filter_img_dict(train_img, limit_town_image)\n",
    "print(len(filtered_train_img))"
   ]
  },
  {
   "cell_type": "code",
   "execution_count": 10,
   "metadata": {},
   "outputs": [],
   "source": [
    "def dict_to_sorted_list(img_dict):\n",
    "    return sorted(img_dict.items(), key=lambda t: t[0])"
   ]
  },
  {
   "cell_type": "code",
   "execution_count": 11,
   "metadata": {},
   "outputs": [
    {
     "name": "stdout",
     "output_type": "stream",
     "text": [
      "('austin1.jpg', <PIL.JpegImagePlugin.JpegImageFile image mode=RGB size=2500x2500 at 0x7FD1B9BF7A90>)\n",
      "('austin1.jpg', <PIL.JpegImagePlugin.JpegImageFile image mode=L size=2500x2500 at 0x7FD1B9B5E9E8>)\n",
      "('vienna3.jpg', <PIL.JpegImagePlugin.JpegImageFile image mode=RGB size=2500x2500 at 0x7FD1B9BB0CC0>)\n",
      "('vienna3.jpg', <PIL.JpegImagePlugin.JpegImageFile image mode=L size=2500x2500 at 0x7FD1B9B12C18>)\n"
     ]
    }
   ],
   "source": [
    "sorted_train_img = dict_to_sorted_list(filtered_train_img)\n",
    "\n",
    "gt_img = load_data.load_images_in_path(\"./train/gt\")\n",
    "filtered_gt_img = filter_img_dict(gt_img, limit_town_image)\n",
    "sorted_gt_img = dict_to_sorted_list(filtered_gt_img)\n",
    "\n",
    "print(sorted_train_img[0])\n",
    "print(sorted_gt_img[0])\n",
    "print(sorted_train_img[-1])\n",
    "print(sorted_gt_img[-1])"
   ]
  },
  {
   "cell_type": "code",
   "execution_count": 12,
   "metadata": {},
   "outputs": [],
   "source": [
    "def make_train_valid_sets(sorted_train, sorted_gt, town_name_list):\n",
    "    limit = 3\n",
    "    train_town_name_list = list(town_name_list)[0:limit]\n",
    "    train_img_list = []\n",
    "    train_gt_list = []\n",
    "    valid_img_list = []\n",
    "    valid_gt_list = []\n",
    "    for (n1,img),(n2,gt) in zip(sorted_train, sorted_gt):\n",
    "        if n1 != n2:\n",
    "            print(\"not sorted !\")\n",
    "        n1 = re.search(\"[A-Za-z]+\", n1).group(0)\n",
    "        if n1 in train_town_name_list:\n",
    "            train_img_list.append((n1,img))\n",
    "            train_gt_list.append((n2,gt))\n",
    "        else:\n",
    "            valid_img_list.append((n1,img))\n",
    "            valid_gt_list.append((n2,gt))\n",
    "    return {\"img\":train_img_list, \"gt\":train_gt_list}, {\"img\":valid_img_list,\"gt\":valid_gt_list}"
   ]
  },
  {
   "cell_type": "code",
   "execution_count": 13,
   "metadata": {},
   "outputs": [],
   "source": [
    "train, valid = make_train_valid_sets(sorted_train_img, sorted_gt_img, town_name_list)"
   ]
  },
  {
   "cell_type": "code",
   "execution_count": 14,
   "metadata": {},
   "outputs": [],
   "source": [
    "def img_sorted_list_to_numpy(sorted_img_list):\n",
    "    return [np.expand_dims(np.moveaxis(np.asarray(img), -1, 0), axis=0)/255. for _,img in sorted_img_list]"
   ]
  },
  {
   "cell_type": "code",
   "execution_count": 15,
   "metadata": {},
   "outputs": [],
   "source": [
    "train_np = img_sorted_list_to_numpy(train[\"img\"])"
   ]
  },
  {
   "cell_type": "code",
   "execution_count": 16,
   "metadata": {},
   "outputs": [
    {
     "name": "stdout",
     "output_type": "stream",
     "text": [
      "(1, 3, 2500, 2500)\n"
     ]
    }
   ],
   "source": [
    "print(train_np[0].shape)"
   ]
  },
  {
   "cell_type": "code",
   "execution_count": 17,
   "metadata": {},
   "outputs": [],
   "source": [
    "def gt_sorted_list_to_numpy(sorted_gt_img):\n",
    "    return [(np.asarray(gt).flatten().reshape(-1 ,1)/255.>0.5).astype(int) for _,gt in sorted_gt_img]"
   ]
  },
  {
   "cell_type": "code",
   "execution_count": 18,
   "metadata": {},
   "outputs": [],
   "source": [
    "gt_np = gt_sorted_list_to_numpy(train[\"gt\"])"
   ]
  },
  {
   "cell_type": "code",
   "execution_count": 19,
   "metadata": {},
   "outputs": [
    {
     "name": "stdout",
     "output_type": "stream",
     "text": [
      "(6250000, 1)\n"
     ]
    }
   ],
   "source": [
    "print(gt_np[0].shape)"
   ]
  },
  {
   "cell_type": "code",
   "execution_count": 20,
   "metadata": {},
   "outputs": [],
   "source": [
    "valid_img_np = img_sorted_list_to_numpy(valid[\"img\"])\n",
    "valid_gt_np = gt_sorted_list_to_numpy(valid[\"gt\"])"
   ]
  },
  {
   "cell_type": "code",
   "execution_count": 21,
   "metadata": {},
   "outputs": [
    {
     "name": "stdout",
     "output_type": "stream",
     "text": [
      "9\n",
      "6\n"
     ]
    }
   ],
   "source": [
    "print(len(train_np))\n",
    "print(len(valid_img_np))"
   ]
  },
  {
   "cell_type": "markdown",
   "metadata": {},
   "source": [
    "```python\n",
    "img = load_one_image(\"austin1.jpg\")\n",
    "label = load_one_image(\"austin1_label.jpg\")\n",
    "```"
   ]
  },
  {
   "cell_type": "markdown",
   "metadata": {},
   "source": [
    "```python\n",
    "type(img)\n",
    "```"
   ]
  },
  {
   "cell_type": "markdown",
   "metadata": {},
   "source": [
    "```python\n",
    "arr = np.asarray(img)\n",
    "label = np.asarray(label)\n",
    "```"
   ]
  },
  {
   "cell_type": "markdown",
   "metadata": {},
   "source": [
    "```python\n",
    "print(arr.shape)\n",
    "print(label.shape)\n",
    "```"
   ]
  },
  {
   "cell_type": "markdown",
   "metadata": {},
   "source": [
    "```python\n",
    "w = arr.shape[0]\n",
    "h = arr.shape[1]\n",
    "c = arr.shape[2]\n",
    "arr = arr.reshape(1, c, w, h) \n",
    "label = label.flatten().reshape(-1 ,1)\n",
    "\n",
    "print(label.shape)\n",
    "```"
   ]
  },
  {
   "cell_type": "markdown",
   "metadata": {},
   "source": [
    "```python\n",
    "print(arr.shape)\n",
    "```"
   ]
  },
  {
   "cell_type": "code",
   "execution_count": 22,
   "metadata": {},
   "outputs": [],
   "source": [
    "tmp = list(zip(train_np, gt_np))\n",
    "random.shuffle(tmp)\n",
    "train_np, gt_np = zip(*tmp)"
   ]
  },
  {
   "cell_type": "code",
   "execution_count": 23,
   "metadata": {},
   "outputs": [],
   "source": [
    "def use_cuda():\n",
    "    return False#th.cuda.is_available()\n",
    "\n",
    "def to_float_tensor(numpy_ndarray, grad):\n",
    "    t = th.tensor(numpy_ndarray, dtype=th.float,requires_grad=grad)\n",
    "    if use_cuda():\n",
    "        return t.to(th.device('cuda:0'))\n",
    "    return t\n",
    "\n",
    "def to_byte_tensor(numpy_ndarray, grad):\n",
    "    t = th.tensor(numpy_ndarray, dtype=th.uint8, requires_grad=grad)\n",
    "    if use_cuda():\n",
    "        return t.to(th.device('cuda:0'))\n",
    "    return t"
   ]
  },
  {
   "cell_type": "code",
   "execution_count": 24,
   "metadata": {},
   "outputs": [],
   "source": [
    "def iou_eval(model, valid_img_np, valid_gt_np):\n",
    "    nb_same_building = 0\n",
    "    nb_building_predict = 0\n",
    "    nb_building_gt = 0\n",
    "    for img, gt in zip(valid_img_np, valid_gt_np):\n",
    "        y = model(to_float_tensor(img, False))\n",
    "        tmp = (y > 0.5) & (to_byte_tensor(gt, False)==1)\n",
    "        nb_same_building += tmp.sum().item()\n",
    "        nb_building_predict += (y > 0.5).sum().item()\n",
    "        nb_building_gt += gt.sum().item()\n",
    "    return nb_same_building / (nb_building_predict + nb_building_gt - nb_same_building)"
   ]
  },
  {
   "cell_type": "code",
   "execution_count": 25,
   "metadata": {},
   "outputs": [
    {
     "name": "stdout",
     "output_type": "stream",
     "text": [
      "Epoch 0, loss = 0.605632, accuracy = 0.851704, iou = 0.000000\n",
      "Epoch 1, loss = 0.514593, accuracy = 0.851712, iou = 0.000000\n"
     ]
    },
    {
     "ename": "KeyboardInterrupt",
     "evalue": "",
     "output_type": "error",
     "traceback": [
      "\u001b[0;31m---------------------------------------------------------------------------\u001b[0m",
      "\u001b[0;31mKeyboardInterrupt\u001b[0m                         Traceback (most recent call last)",
      "\u001b[0;32m<ipython-input-25-6c90ca83f72d>\u001b[0m in \u001b[0;36m<module>\u001b[0;34m\u001b[0m\n\u001b[1;32m     17\u001b[0m         \u001b[0moptim\u001b[0m\u001b[0;34m.\u001b[0m\u001b[0mzero_grad\u001b[0m\u001b[0;34m(\u001b[0m\u001b[0;34m)\u001b[0m\u001b[0;34m\u001b[0m\u001b[0m\n\u001b[1;32m     18\u001b[0m         \u001b[0mout\u001b[0m \u001b[0;34m=\u001b[0m \u001b[0mmodel\u001b[0m\u001b[0;34m(\u001b[0m\u001b[0mto_float_tensor\u001b[0m\u001b[0;34m(\u001b[0m\u001b[0mimg\u001b[0m\u001b[0;34m,\u001b[0m \u001b[0;32mTrue\u001b[0m\u001b[0;34m)\u001b[0m\u001b[0;34m)\u001b[0m\u001b[0;34m\u001b[0m\u001b[0m\n\u001b[0;32m---> 19\u001b[0;31m         \u001b[0mloss\u001b[0m \u001b[0;34m=\u001b[0m \u001b[0mloss_fn\u001b[0m\u001b[0;34m(\u001b[0m\u001b[0mout\u001b[0m\u001b[0;34m,\u001b[0m \u001b[0mto_float_tensor\u001b[0m\u001b[0;34m(\u001b[0m\u001b[0mgt\u001b[0m\u001b[0;34m,\u001b[0m \u001b[0;32mFalse\u001b[0m\u001b[0;34m)\u001b[0m\u001b[0;34m)\u001b[0m\u001b[0;34m\u001b[0m\u001b[0m\n\u001b[0m\u001b[1;32m     20\u001b[0m         \u001b[0mloss\u001b[0m\u001b[0;34m.\u001b[0m\u001b[0mbackward\u001b[0m\u001b[0;34m(\u001b[0m\u001b[0;34m)\u001b[0m\u001b[0;34m\u001b[0m\u001b[0m\n\u001b[1;32m     21\u001b[0m         \u001b[0moptim\u001b[0m\u001b[0;34m.\u001b[0m\u001b[0mstep\u001b[0m\u001b[0;34m(\u001b[0m\u001b[0;34m)\u001b[0m\u001b[0;34m\u001b[0m\u001b[0m\n",
      "\u001b[0;32m<ipython-input-23-66ba288f255e>\u001b[0m in \u001b[0;36mto_float_tensor\u001b[0;34m(numpy_ndarray, grad)\u001b[0m\n\u001b[1;32m      3\u001b[0m \u001b[0;34m\u001b[0m\u001b[0m\n\u001b[1;32m      4\u001b[0m \u001b[0;32mdef\u001b[0m \u001b[0mto_float_tensor\u001b[0m\u001b[0;34m(\u001b[0m\u001b[0mnumpy_ndarray\u001b[0m\u001b[0;34m,\u001b[0m \u001b[0mgrad\u001b[0m\u001b[0;34m)\u001b[0m\u001b[0;34m:\u001b[0m\u001b[0;34m\u001b[0m\u001b[0m\n\u001b[0;32m----> 5\u001b[0;31m     \u001b[0mt\u001b[0m \u001b[0;34m=\u001b[0m \u001b[0mth\u001b[0m\u001b[0;34m.\u001b[0m\u001b[0mtensor\u001b[0m\u001b[0;34m(\u001b[0m\u001b[0mnumpy_ndarray\u001b[0m\u001b[0;34m,\u001b[0m \u001b[0mdtype\u001b[0m\u001b[0;34m=\u001b[0m\u001b[0mth\u001b[0m\u001b[0;34m.\u001b[0m\u001b[0mfloat\u001b[0m\u001b[0;34m,\u001b[0m\u001b[0mrequires_grad\u001b[0m\u001b[0;34m=\u001b[0m\u001b[0mgrad\u001b[0m\u001b[0;34m)\u001b[0m\u001b[0;34m\u001b[0m\u001b[0m\n\u001b[0m\u001b[1;32m      6\u001b[0m     \u001b[0;32mif\u001b[0m \u001b[0muse_cuda\u001b[0m\u001b[0;34m(\u001b[0m\u001b[0;34m)\u001b[0m\u001b[0;34m:\u001b[0m\u001b[0;34m\u001b[0m\u001b[0m\n\u001b[1;32m      7\u001b[0m         \u001b[0;32mreturn\u001b[0m \u001b[0mt\u001b[0m\u001b[0;34m.\u001b[0m\u001b[0mto\u001b[0m\u001b[0;34m(\u001b[0m\u001b[0mth\u001b[0m\u001b[0;34m.\u001b[0m\u001b[0mdevice\u001b[0m\u001b[0;34m(\u001b[0m\u001b[0;34m'cuda:0'\u001b[0m\u001b[0;34m)\u001b[0m\u001b[0;34m)\u001b[0m\u001b[0;34m\u001b[0m\u001b[0m\n",
      "\u001b[0;31mKeyboardInterrupt\u001b[0m: "
     ]
    }
   ],
   "source": [
    "nbEpoch = 4\n",
    "learning_rate = 1e-2\n",
    "\n",
    "model = MyModel()\n",
    "loss_fn = nn.BCELoss()\n",
    "\n",
    "if use_cuda():\n",
    "    model.cuda()\n",
    "    loss_fn.cuda()\n",
    "\n",
    "optim = th.optim.Adagrad(model.parameters(), lr=learning_rate)\n",
    "\n",
    "for i in range(nbEpoch):\n",
    "    model.train()\n",
    "    sum_loss = 0\n",
    "    for img, gt in zip(train_np, gt_np):\n",
    "        optim.zero_grad()\n",
    "        out = model(to_float_tensor(img, True))\n",
    "        loss = loss_fn(out, to_float_tensor(gt, False))\n",
    "        loss.backward()\n",
    "        optim.step()\n",
    "        sum_loss += loss.item()\n",
    "    sum_loss /= len(train_np)\n",
    "    correct = 0\n",
    "    total = 0\n",
    "    model.eval()\n",
    "    for img, gt in zip(valid_img_np, valid_gt_np):\n",
    "        y = model(to_float_tensor(img, False))\n",
    "        tmp = (y > 0.5) == to_byte_tensor(gt, False)\n",
    "        total += tmp.size(0)\n",
    "        correct += tmp.sum().item()\n",
    "    iou = iou_eval(model, valid_img_np, valid_gt_np)\n",
    "    print(\"Epoch %d, loss = %f, accuracy = %f, iou = %f\" % (i, sum_loss, correct / total, iou))"
   ]
  },
  {
   "cell_type": "code",
   "execution_count": 23,
   "metadata": {},
   "outputs": [
    {
     "name": "stdout",
     "output_type": "stream",
     "text": [
      "(2500, 2500, 3)\n"
     ]
    },
    {
     "data": {
      "text/plain": [
       "<matplotlib.image.AxesImage at 0x7fb5c80c1d30>"
      ]
     },
     "execution_count": 23,
     "metadata": {},
     "output_type": "execute_result"
    }
   ],
   "source": [
    "from matplotlib.pyplot import imshow\n",
    "from PIL import Image\n",
    "img_test = Image.open(\"./train/images/vienna36.jpg\")\n",
    "arr_test = np.asarray(img_test)\n",
    "print(arr_test.shape)\n",
    "imshow(arr_test)"
   ]
  },
  {
   "cell_type": "code",
   "execution_count": 25,
   "metadata": {},
   "outputs": [
    {
     "name": "stdout",
     "output_type": "stream",
     "text": [
      "(1, 1, 2500, 2500)\n"
     ]
    }
   ],
   "source": [
    "x = np.expand_dims(np.moveaxis(np.asarray(arr_test), -1, 0), axis=0).mean(axis=1)[:,np.newaxis,:,:]/255.\n",
    "print(x.shape)"
   ]
  },
  {
   "cell_type": "code",
   "execution_count": 26,
   "metadata": {},
   "outputs": [],
   "source": [
    "model.eval()\n",
    "y = model(to_float_tensor(x, False))"
   ]
  },
  {
   "cell_type": "code",
   "execution_count": 27,
   "metadata": {},
   "outputs": [],
   "source": [
    "res = y.detach().numpy()"
   ]
  },
  {
   "cell_type": "code",
   "execution_count": 40,
   "metadata": {},
   "outputs": [
    {
     "name": "stdout",
     "output_type": "stream",
     "text": [
      "(6250000, 1)\n",
      "(2500, 2500, 1)\n"
     ]
    }
   ],
   "source": [
    "h = arr_test.shape[0]\n",
    "w = arr_test.shape[1]\n",
    "print(res.shape)\n",
    "gt_res = np.where(res.reshape(h,w,1) > 0.41, 0., 1.)\n",
    "print(gt_res.shape)"
   ]
  },
  {
   "cell_type": "code",
   "execution_count": 41,
   "metadata": {},
   "outputs": [
    {
     "data": {
      "text/plain": [
       "<matplotlib.image.AxesImage at 0x7fb288378c18>"
      ]
     },
     "execution_count": 41,
     "metadata": {},
     "output_type": "execute_result"
    },
    {
     "data": {
      "image/png": "[encoded data removed]",
      "text/plain": [
       "<Figure size 432x288 with 1 Axes>"
      ]
     },
     "metadata": {
      "needs_background": "light"
     },
     "output_type": "display_data"
    }
   ],
   "source": [
    "gt_img_res = np.concatenate((gt_res, gt_res, gt_res), axis=2)\n",
    "imshow(gt_img_res)"
   ]
  },
  {
   "cell_type": "code",
   "execution_count": 77,
   "metadata": {},
   "outputs": [
    {
     "data": {
      "text/plain": [
       "<matplotlib.image.AxesImage at 0x7fb335afa748>"
      ]
     },
     "execution_count": 77,
     "metadata": {},
     "output_type": "execute_result"
    },
    {
     "data": {
      "image/png": "[encoded data removed]",
      "text/plain": [
       "<Figure size 432x288 with 1 Axes>"
      ]
     },
     "metadata": {
      "needs_background": "light"
     },
     "output_type": "display_data"
    }
   ],
   "source": [
    "imshow(np.asarray(Image.open(\"./train/gt/vienna36.jpg\").convert('RGB')))"
   ]
  },
  {
   "cell_type": "code",
   "execution_count": null,
   "metadata": {},
   "outputs": [],
   "source": []
  }
 ],
 "metadata": {
  "kernelspec": {
   "display_name": "Python 3",
   "language": "python",
   "name": "python3"
  },
  "language_info": {
   "codemirror_mode": {
    "name": "ipython",
    "version": 3
   },
   "file_extension": ".py",
   "mimetype": "text/x-python",
   "name": "python",
   "nbconvert_exporter": "python",
   "pygments_lexer": "ipython3",
   "version": "3.5.2"
  }
 },
 "nbformat": 4,
 "nbformat_minor": 2
}
