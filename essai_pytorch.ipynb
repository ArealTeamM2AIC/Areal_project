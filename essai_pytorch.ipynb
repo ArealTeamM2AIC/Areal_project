{
 "cells": [
  {
   "cell_type": "code",
   "execution_count": 1,
   "metadata": {},
   "outputs": [],
   "source": [
    "import torch as th\n",
    "import torch.nn as nn\n",
    "from PIL import Image\n",
    "import numpy as np\n",
    "from os import listdir\n",
    "from os.path import isfile, join\n",
    "import re\n",
    "import random"
   ]
  },
  {
   "cell_type": "code",
   "execution_count": 2,
   "metadata": {},
   "outputs": [],
   "source": [
    "class MyModel(nn.Module):\n",
    "    def __init__(self, img_w, img_h):\n",
    "        super(MyModel, self).__init__()\n",
    "        in_channels = 3 # RGB\n",
    "        out_channels = 1\n",
    "        kernel = (3,3) # square kernel\n",
    "        self.conv = nn.Conv2d(in_channels, out_channels, kernel_size=kernel, padding=1)\n",
    "        self.rel = nn.ReLU()\n",
    "        \n",
    "        self.lin = nn.Linear(1, 1)\n",
    "        self.act = nn.Sigmoid()\n",
    "        \n",
    "    def forward(self, data):\n",
    "        out = self.conv(data)\n",
    "        out = self.rel(out)\n",
    "        out = out.flatten().unsqueeze(1)\n",
    "        out = self.lin(out)\n",
    "        return self.act(out)"
   ]
  },
  {
   "cell_type": "code",
   "execution_count": 3,
   "metadata": {},
   "outputs": [],
   "source": [
    "def load_one_image(file):\n",
    "    return Image.open(file)"
   ]
  },
  {
   "cell_type": "code",
   "execution_count": 4,
   "metadata": {},
   "outputs": [],
   "source": [
    "def load_images_in_path(path):\n",
    "    return {f: load_one_image(join(path, f)) for f in listdir(path) if isfile(join(path, f))}"
   ]
  },
  {
   "cell_type": "code",
   "execution_count": 5,
   "metadata": {},
   "outputs": [
    {
     "name": "stdout",
     "output_type": "stream",
     "text": [
      "Nombre d'image de train : 180\n"
     ]
    }
   ],
   "source": [
    "train_img = load_images_in_path(\"/home/samuel/Documents/Cours/M2_AIC/Projet/train/images\")\n",
    "print(\"Nombre d'image de train : %d\" % (len(train_img)))"
   ]
  },
  {
   "cell_type": "code",
   "execution_count": 6,
   "metadata": {},
   "outputs": [],
   "source": [
    "def get_town_name_list(img_dict):\n",
    "    names = [f for f,img in img_dict.items()]\n",
    "    names = list(map(lambda n: re.search(\"[A-Za-z]+\", n).group(0), names))\n",
    "    return set(names)"
   ]
  },
  {
   "cell_type": "code",
   "execution_count": 7,
   "metadata": {},
   "outputs": [
    {
     "name": "stdout",
     "output_type": "stream",
     "text": [
      "{'vienna', 'kitsap', 'tyrol', 'austin', 'chicago'}\n"
     ]
    }
   ],
   "source": [
    "town_name_list = get_town_name_list(train_img)\n",
    "print(town_name_list)"
   ]
  },
  {
   "cell_type": "code",
   "execution_count": 8,
   "metadata": {},
   "outputs": [],
   "source": [
    "def filter_img_dict(img_dict, limit):\n",
    "    return {name: img for name, img in img_dict.items() if int(re.search(\"[0-9]+\", name).group(0)) <= limit}"
   ]
  },
  {
   "cell_type": "code",
   "execution_count": 9,
   "metadata": {},
   "outputs": [
    {
     "name": "stdout",
     "output_type": "stream",
     "text": [
      "45\n"
     ]
    }
   ],
   "source": [
    "filtered_train_img = filter_img_dict(train_img, 9)\n",
    "print(len(filtered_train_img))"
   ]
  },
  {
   "cell_type": "code",
   "execution_count": 10,
   "metadata": {},
   "outputs": [],
   "source": [
    "def dict_to_sorted_list(img_dict):\n",
    "    return sorted(img_dict.items(), key=lambda t: t[0])"
   ]
  },
  {
   "cell_type": "code",
   "execution_count": 11,
   "metadata": {},
   "outputs": [
    {
     "name": "stdout",
     "output_type": "stream",
     "text": [
      "('austin1.jpg', <PIL.JpegImagePlugin.JpegImageFile image mode=RGB size=2500x2500 at 0x7FACC0520B70>)\n",
      "('austin1.jpg', <PIL.JpegImagePlugin.JpegImageFile image mode=L size=2500x2500 at 0x7FACC050AAC8>)\n",
      "('vienna9.jpg', <PIL.JpegImagePlugin.JpegImageFile image mode=RGB size=2500x2500 at 0x7FACC0549400>)\n",
      "('vienna9.jpg', <PIL.JpegImagePlugin.JpegImageFile image mode=L size=2500x2500 at 0x7FACC04AD358>)\n"
     ]
    }
   ],
   "source": [
    "sorted_train_img = dict_to_sorted_list(filtered_train_img)\n",
    "\n",
    "gt_img = load_images_in_path(\"/home/samuel/Documents/Cours/M2_AIC/Projet/train/gt\")\n",
    "filtered_gt_img = filter_img_dict(gt_img, 9)\n",
    "sorted_gt_img = dict_to_sorted_list(filtered_gt_img)\n",
    "\n",
    "print(sorted_train_img[0])\n",
    "print(sorted_gt_img[0])\n",
    "print(sorted_train_img[-1])\n",
    "print(sorted_gt_img[-1])"
   ]
  },
  {
   "cell_type": "code",
   "execution_count": 12,
   "metadata": {},
   "outputs": [],
   "source": [
    "def img_sorted_list_to_numpy(sorted_img_list):\n",
    "    return [np.expand_dims(np.moveaxis(np.asarray(img), -1, 0), axis=0) for _,img in sorted_img_list]"
   ]
  },
  {
   "cell_type": "code",
   "execution_count": 13,
   "metadata": {},
   "outputs": [],
   "source": [
    "train_np = img_sorted_list_to_numpy(sorted_train_img)"
   ]
  },
  {
   "cell_type": "code",
   "execution_count": 14,
   "metadata": {},
   "outputs": [
    {
     "name": "stdout",
     "output_type": "stream",
     "text": [
      "(1, 3, 2500, 2500)\n"
     ]
    }
   ],
   "source": [
    "print(train_np[0].shape)"
   ]
  },
  {
   "cell_type": "code",
   "execution_count": 15,
   "metadata": {},
   "outputs": [],
   "source": [
    "def gt_sorted_list_to_numpy(sorted_gt_img):\n",
    "    return [np.asarray(gt).flatten().reshape(-1 ,1) for _,gt in sorted_gt_img]"
   ]
  },
  {
   "cell_type": "code",
   "execution_count": 16,
   "metadata": {},
   "outputs": [],
   "source": [
    "gt_np = gt_sorted_list_to_numpy(sorted_gt_img)"
   ]
  },
  {
   "cell_type": "code",
   "execution_count": 17,
   "metadata": {},
   "outputs": [
    {
     "name": "stdout",
     "output_type": "stream",
     "text": [
      "(6250000, 1)\n"
     ]
    }
   ],
   "source": [
    "print(gt_np[0].shape)"
   ]
  },
  {
   "cell_type": "markdown",
   "metadata": {},
   "source": [
    "```python\n",
    "img = load_one_image(\"austin1.jpg\")\n",
    "label = load_one_image(\"austin1_label.jpg\")\n",
    "```"
   ]
  },
  {
   "cell_type": "markdown",
   "metadata": {},
   "source": [
    "```python\n",
    "type(img)\n",
    "```"
   ]
  },
  {
   "cell_type": "markdown",
   "metadata": {},
   "source": [
    "```python\n",
    "arr = np.asarray(img)\n",
    "label = np.asarray(label)\n",
    "```"
   ]
  },
  {
   "cell_type": "markdown",
   "metadata": {},
   "source": [
    "```python\n",
    "print(arr.shape)\n",
    "print(label.shape)\n",
    "```"
   ]
  },
  {
   "cell_type": "markdown",
   "metadata": {},
   "source": [
    "```python\n",
    "w = arr.shape[0]\n",
    "h = arr.shape[1]\n",
    "c = arr.shape[2]\n",
    "arr = arr.reshape(1, c, w, h) \n",
    "label = label.flatten().reshape(-1 ,1)\n",
    "\n",
    "print(label.shape)\n",
    "```"
   ]
  },
  {
   "cell_type": "markdown",
   "metadata": {},
   "source": [
    "```python\n",
    "print(arr.shape)\n",
    "```"
   ]
  },
  {
   "cell_type": "code",
   "execution_count": 20,
   "metadata": {},
   "outputs": [],
   "source": [
    "tmp = list(zip(train_np, gt_np))\n",
    "random.shuffle(tmp)\n",
    "train_np, gt_np = zip(*tmp)"
   ]
  },
  {
   "cell_type": "code",
   "execution_count": null,
   "metadata": {},
   "outputs": [
    {
     "name": "stdout",
     "output_type": "stream",
     "text": [
      "Epoch 0, loss = -849.980221\n"
     ]
    }
   ],
   "source": [
    "nbEpoch = 30\n",
    "learning_rate = 1e-2\n",
    "\n",
    "model = MyModel(2500, 2500)\n",
    "loss_fn = nn.BCELoss()\n",
    "optim = th.optim.Adagrad(model.parameters(), lr=learning_rate)\n",
    "\n",
    "for i in range(nbEpoch):\n",
    "    model.train()\n",
    "    sum_loss = 0\n",
    "    for img, gt in zip(train_np, gt_np):\n",
    "        optim.zero_grad()\n",
    "        out = model(th.FloatTensor(img))\n",
    "        y = th.FloatTensor(gt)\n",
    "        loss = loss_fn(out, y)\n",
    "        loss.backward()\n",
    "        optim.step()\n",
    "        sum_loss += loss.item()\n",
    "    sum_loss /= len(train_np)\n",
    "    print(\"Epoch %d, loss = %f\" % (i, sum_loss))"
   ]
  },
  {
   "cell_type": "code",
   "execution_count": null,
   "metadata": {},
   "outputs": [],
   "source": []
  }
 ],
 "metadata": {
  "kernelspec": {
   "display_name": "Python 3",
   "language": "python",
   "name": "python3"
  },
  "language_info": {
   "codemirror_mode": {
    "name": "ipython",
    "version": 3
   },
   "file_extension": ".py",
   "mimetype": "text/x-python",
   "name": "python",
   "nbconvert_exporter": "python",
   "pygments_lexer": "ipython3",
   "version": "3.5.2"
  }
 },
 "nbformat": 4,
 "nbformat_minor": 2
}
