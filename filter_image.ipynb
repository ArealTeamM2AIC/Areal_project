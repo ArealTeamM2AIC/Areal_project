{
 "cells": [
  {
   "cell_type": "code",
   "execution_count": 13,
   "metadata": {},
   "outputs": [],
   "source": [
    "import load_data\n",
    "from os import listdir\n",
    "from os.path import isfile, join\n",
    "from os import makedirs\n",
    "import numpy as np\n",
    "from PIL import Image"
   ]
  },
  {
   "cell_type": "markdown",
   "metadata": {},
   "source": [
    "assume image are in `JPEG` format and ground truth in `png` format"
   ]
  },
  {
   "cell_type": "code",
   "execution_count": 3,
   "metadata": {},
   "outputs": [],
   "source": [
    "path_img = \"./split_data/img_split_RGB\"\n",
    "path_gt = \"./split_data/gt_split\""
   ]
  },
  {
   "cell_type": "code",
   "execution_count": 4,
   "metadata": {},
   "outputs": [],
   "source": [
    "new_dir_img = \"./split_data/img_split_RGB_filtered\"\n",
    "new_dir_gt = \"./split_data/gt_split_filtered\""
   ]
  },
  {
   "cell_type": "code",
   "execution_count": 6,
   "metadata": {},
   "outputs": [],
   "source": [
    "makedirs(new_dir_gt)\n",
    "makedirs(new_dir_img)"
   ]
  },
  {
   "cell_type": "code",
   "execution_count": 26,
   "metadata": {},
   "outputs": [],
   "source": [
    "list_to_retain = []\n",
    "a = 0\n",
    "for f in listdir(path_gt):\n",
    "    if isfile(join(path_gt, f)):\n",
    "        a += 1\n",
    "        ndarray = np.asarray(Image.open(join(path_gt, f))) / 255\n",
    "        s = ndarray.sum()\n",
    "        t = ndarray.flatten().shape[0]\n",
    "        if s/t < 0.6 and s/t > 0.4:\n",
    "            list_to_retain.append(f[:-4])"
   ]
  },
  {
   "cell_type": "code",
   "execution_count": 27,
   "metadata": {},
   "outputs": [
    {
     "name": "stdout",
     "output_type": "stream",
     "text": [
      "331\n",
      "2700\n"
     ]
    }
   ],
   "source": [
    "print(len(list_to_retain))\n",
    "print(a)"
   ]
  },
  {
   "cell_type": "code",
   "execution_count": 29,
   "metadata": {},
   "outputs": [],
   "source": [
    "for f in listdir(path_gt):\n",
    "    if isfile(join(path_gt, f)) and f[:-4] in list_to_retain:\n",
    "        Image.open(join(path_gt, f)).save(join(new_dir_gt, f))\n",
    "        Image.open(join(path_img, f[:-4] + \".jpg\")).save(join(new_dir_img, f[:-4] + \".jpg\"))"
   ]
  },
  {
   "cell_type": "code",
   "execution_count": null,
   "metadata": {},
   "outputs": [],
   "source": []
  }
 ],
 "metadata": {
  "kernelspec": {
   "display_name": "Python 3",
   "language": "python",
   "name": "python3"
  },
  "language_info": {
   "codemirror_mode": {
    "name": "ipython",
    "version": 3
   },
   "file_extension": ".py",
   "mimetype": "text/x-python",
   "name": "python",
   "nbconvert_exporter": "python",
   "pygments_lexer": "ipython3",
   "version": "3.5.2"
  }
 },
 "nbformat": 4,
 "nbformat_minor": 2
}
